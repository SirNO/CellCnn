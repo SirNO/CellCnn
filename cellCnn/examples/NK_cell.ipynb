{
 "cells": [
  {
   "cell_type": "markdown",
   "metadata": {},
   "source": [
    "In this example, we use CellCnn to analyze a mass cytometry dataset acquired to characterize human natural killer (NK) cell diversity and associate NK cell subsets with genetic and environmental factors, namely prior Cytomegalovirus (CMV) infection [1]. This dataset comprises mass cytometry measurements of 36 markers, including 28 NK cell receptors, for PBMC samples of 20 donors with varying serology for CMV. \n",
    "\n",
    "We will train CellCnn to identify CMV seropositivity-associated cell populations within the **manually gated NK cell compartment**. To run this example, please download the [NK cell dataset](http://www.imsb.ethz.ch/research/claassen/Software/cellcnn.html) and place the decompressed folder in the cellCnn/examples directory.\n",
    "\n",
    "[1] Horowitz, A. et al. Genetic and environmental determinants of human NK cell diversity revealed by mass cytometry. Sci. Transl. Med. 5 (2013).\n"
   ]
  },
  {
   "cell_type": "code",
   "execution_count": 1,
   "metadata": {},
   "outputs": [
    {
     "name": "stderr",
     "output_type": "stream",
     "text": [
      "Using TensorFlow backend.\n"
     ]
    },
    {
     "name": "stdout",
     "output_type": "stream",
     "text": [
      "Populating the interactive namespace from numpy and matplotlib\n"
     ]
    }
   ],
   "source": [
    "import os, sys, errno, glob\n",
    "import numpy as np\n",
    "import pandas as pd\n",
    "\n",
    "import cellCnn\n",
    "from cellCnn.utils import ftrans, mkdir_p, get_items\n",
    "from cellCnn.model import CellCnn\n",
    "from cellCnn.plotting import plot_results\n",
    "from sklearn.metrics import roc_auc_score\n",
    "\n",
    "from fcsparser import parse\n",
    "\n",
    "%pylab inline\n"
   ]
  },
  {
   "cell_type": "code",
   "execution_count": 2,
   "metadata": {},
   "outputs": [],
   "source": [
    "# define input and output directories\n",
    "WDIR = os.path.join(cellCnn.__path__[0], 'examples')\n",
    "FCS_DATA_PATH = os.path.join(WDIR, 'nk_cell_dataset', 'gated_NK')\n",
    "\n",
    "# define output directory\n",
    "OUTDIR = os.path.join(WDIR, 'output_NK')\n",
    "mkdir_p(OUTDIR)"
   ]
  },
  {
   "cell_type": "code",
   "execution_count": 3,
   "metadata": {},
   "outputs": [
    {
     "name": "stdout",
     "output_type": "stream",
     "text": [
      "            Time  Cell_length        CD3       Dead  (La139)Dd       CD27  \\\n",
      "0          119.0         21.0  26.322216  -0.838849  -0.714838  -0.910317   \n",
      "1          123.0         43.0  -0.846317  -0.958532  -0.687626  -0.766500   \n",
      "2          147.0         54.0  71.335838  -0.094165   4.121035   9.887491   \n",
      "3          161.0         37.0   2.185232  -0.576323  -0.411834  -0.748874   \n",
      "4          262.0         28.0   7.934325  -0.462586   1.463949  -0.169841   \n",
      "5          301.0         32.0   2.985479  10.230049   8.835604   4.072653   \n",
      "6          374.0         48.0   7.667906   0.928851   7.978984  -0.351516   \n",
      "7          385.0         28.0  -0.650191  -0.743750  -0.522239  -0.045391   \n",
      "8          390.0         22.0   4.273158  -0.044742  -0.820024  10.925801   \n",
      "9          394.0         36.0  -0.359576  -0.201024  -0.199217  -0.824149   \n",
      "10         475.0         27.0  -0.163650  -0.925884  -0.037972   5.456486   \n",
      "11         490.0         33.0   8.716604   2.625169  -0.987170  -0.436552   \n",
      "12         572.0         24.0  -0.084394  -0.081012  -0.122291  -0.738377   \n",
      "13         606.0         19.0   4.050006   0.260468  -0.620519  -0.351634   \n",
      "14         614.0         29.0  21.679544  -0.239538  -0.822797  -0.107715   \n",
      "15         672.0         34.0  -0.359570   0.785609  -0.750254  -0.290605   \n",
      "16         697.0         34.0   8.016775   6.876754  -0.244332  -0.094485   \n",
      "17         700.0         35.0  36.654842  -0.300518  -0.175064  -0.531383   \n",
      "18         706.0         28.0   6.228752  -0.785655  -0.886213  -0.515082   \n",
      "19         729.0         19.0  12.562471   2.219531  -0.217041  -0.137745   \n",
      "20         844.0         45.0  21.837198  23.189808   4.292217  -0.077543   \n",
      "21         932.0         30.0   7.483891   8.746715  -0.302722  -0.348263   \n",
      "22         938.0         36.0  64.360802   7.269978  -0.581177  -0.807371   \n",
      "23         977.0         28.0  67.781708  -0.274666  -0.625264  15.609284   \n",
      "24        1023.0         19.0  -0.431392  -0.031314   0.069923  -0.329560   \n",
      "25        1083.0         22.0  15.569096  15.491406   3.033122  -0.270412   \n",
      "26        1138.0         27.0  16.969336  -0.473872  -0.918658  -0.381777   \n",
      "27        1173.0         21.0  -0.905793   3.057598  -0.609700   2.960470   \n",
      "28        1265.0         25.0  56.627579   5.229751  -0.209579  -0.820894   \n",
      "29        1319.0         53.0  35.645596  -0.253425   3.113624  -0.948780   \n",
      "...          ...          ...        ...        ...        ...        ...   \n",
      "23498  1120335.0         30.0  55.960590   0.781592  -0.024737  -0.445909   \n",
      "23499  1120560.0         21.0  -0.302242  -0.383580   0.778974   1.780211   \n",
      "23500  1120881.0         32.0  -0.935764  -0.282037  -0.731015  -0.022283   \n",
      "23501  1121016.0         23.0   4.850259  -0.143508  -0.487363  -0.043719   \n",
      "23502  1121280.0         25.0  15.354660  -0.641957  -0.542239  -0.158754   \n",
      "23503  1121291.0         25.0  49.534626  -0.189133  13.575676   2.050443   \n",
      "23504  1121394.0         30.0   3.676960   1.872879   7.863844  -0.985792   \n",
      "23505  1121512.0         36.0   1.724294  -0.227298  -0.625578  -0.951689   \n",
      "23506  1122103.0         21.0  -0.376252   6.202609   0.566662  -0.851441   \n",
      "23507  1122854.0         33.0  64.709183  -0.045720  -0.701888   3.385412   \n",
      "23508  1123129.0         21.0  -0.034212  -0.482888   5.348141  -0.339230   \n",
      "23509  1123205.0         29.0  -0.089411  -0.058757   2.859226   2.062756   \n",
      "23510  1124118.0         25.0  48.066704  -0.024718  -0.078345  -0.293286   \n",
      "23511  1124170.0         26.0  -0.795743  -0.682148  -0.520817  -0.915104   \n",
      "23512  1124254.0         40.0  -0.278159  -0.807209  -0.181983   0.063019   \n",
      "23513  1124302.0         34.0  19.075710  -0.204805   0.806474  -0.951642   \n",
      "23514  1124647.0         24.0  -0.153942  -0.628639  -0.342058  -0.806276   \n",
      "23515  1124672.0         20.0  -0.340607   5.037410  -0.863949  -0.860932   \n",
      "23516  1125107.0         30.0  22.505110  -0.687201  -0.424755  -0.082700   \n",
      "23517  1125231.0         61.0  -0.755510   1.923213  -0.140081   5.769238   \n",
      "23518  1125258.0         20.0  -0.425020  17.387875  -0.983422  -0.968701   \n",
      "23519  1125486.0         23.0  50.619076  -0.437859  -0.977789  -0.866135   \n",
      "23520  1125626.0         34.0  53.614849   7.423398  -0.569661  -0.506037   \n",
      "23521  1125671.0         27.0  28.118536  -0.434691  -0.501348   1.561769   \n",
      "23522  1126247.0         32.0  52.319778  -0.388993  -0.495729  -0.548812   \n",
      "23523  1126838.0         24.0   6.174286  -0.149463  -0.174481  -0.886649   \n",
      "23524  1126966.0         26.0  40.188759  -0.680587  -0.470055   2.653166   \n",
      "23525  1127990.0         18.0  -0.729622  -0.624919  -0.841775  -0.843435   \n",
      "23526  1128402.0         35.0  43.184822  -0.222097  -0.771204   8.654477   \n",
      "23527  1129006.0         30.0  19.163380  -0.378016  -0.011430  -0.403531   \n",
      "\n",
      "           CD19        CD4         CD8        CD57     ...           CCR7  \\\n",
      "0     -0.638733  -0.601809  178.631790    1.181523     ...      -0.750654   \n",
      "1     -0.742613   8.905572   14.484344   -0.909066     ...      -0.984644   \n",
      "2     -0.332426  69.127586   18.639708   17.665436     ...      -0.802045   \n",
      "3     -0.831503   1.581202   50.228508   -0.547260     ...      -0.404242   \n",
      "4     -0.424672  -0.892627    6.851076   -0.151747     ...       4.092322   \n",
      "5     -0.426065  -0.756032  114.863510  149.349167     ...      -0.748201   \n",
      "6     -0.721003  -0.178709  169.501953  162.453644     ...      -0.505796   \n",
      "7     -0.283459   8.014297   24.939816   -0.923526     ...      -0.149415   \n",
      "8     -0.295215   1.498613    7.072919   -0.084416     ...      -0.759293   \n",
      "9      4.360300   1.496741   67.855240   -0.132687     ...      -0.300465   \n",
      "10    -0.518903  -0.744325   35.481834    2.717808     ...      -0.896955   \n",
      "11     0.295377   2.789930    6.289442   -0.049987     ...      -0.658169   \n",
      "12    -0.064276   6.117635   14.327690   -0.204666     ...      -0.206593   \n",
      "13    -0.586194  -0.226211   34.927540   -0.395761     ...      -0.536105   \n",
      "14    -0.652855  -0.578873    1.624798   -0.931471     ...      -0.873164   \n",
      "15    -0.674050   1.845914   10.582978   -0.699115     ...      -0.039576   \n",
      "16    -0.152604  -0.687788   15.095670   -0.519866     ...      -0.799680   \n",
      "17    -0.097345   1.328562   -0.394922   -0.927315     ...      -0.520850   \n",
      "18    -0.596285  -0.741642   12.213611   -0.950773     ...      -0.628950   \n",
      "19    -0.039642  -0.710105  104.666412    7.532811     ...      -0.435812   \n",
      "20     1.166834   2.051291  217.498871   20.573833     ...      -0.383564   \n",
      "21    -0.061882  -0.257409   30.592058   -0.159722     ...      -0.046316   \n",
      "22    -0.382081  -0.810449  151.240036   84.488754     ...      -0.928360   \n",
      "23    -0.754761  11.163641  183.899521    2.127536     ...      -0.530181   \n",
      "24    -0.159443  -0.089351    4.123412    4.835447     ...      -0.806817   \n",
      "25    -0.462419  25.683912   23.542072   -0.983810     ...      -0.089298   \n",
      "26    -0.645315  -0.437705    2.578172   -0.877246     ...      -0.011876   \n",
      "27    -0.007487  -0.349090   -0.588981   -0.172618     ...      -0.226370   \n",
      "28    -0.921518  21.527584   -0.620069   -0.258910     ...      -0.294234   \n",
      "29    -0.946101   6.045801  195.121017   51.911457     ...      -0.666718   \n",
      "...         ...        ...         ...         ...     ...            ...   \n",
      "23498 -0.029278   6.714443   20.913256   44.638687     ...      -0.892431   \n",
      "23499 -0.426784  -0.963074    1.985004   -0.949391     ...      -0.214886   \n",
      "23500 -0.534713  -0.219351   -0.636328   -0.878237     ...      -0.525370   \n",
      "23501 -0.288419  -0.249869    4.144621    7.428232     ...      -0.715719   \n",
      "23502 -0.630049  -0.097903    6.588188   11.652208     ...      -0.327131   \n",
      "23503 -0.817286  62.429287    8.496592    3.063761     ...      -0.911518   \n",
      "23504 -0.994738  20.807634   -0.968934   -0.063695     ...      -0.470953   \n",
      "23505 -0.221739   6.099555    4.208651   -0.712657     ...      -0.109779   \n",
      "23506 -0.821615  -0.394769   55.362492   -0.087747     ...       0.414914   \n",
      "23507  1.467720  -0.858098  106.865364   82.294586     ...      -0.474190   \n",
      "23508 -0.487181  -0.270196   -0.443375   29.921755     ...      -0.723726   \n",
      "23509  2.109099  14.160707    7.831769   -0.422198     ...      -0.011511   \n",
      "23510 -0.428554  -0.916156  181.271652   -0.366653     ...      -0.598749   \n",
      "23511 -0.791943  -0.307564   -0.694443   -0.957453     ...      -0.568486   \n",
      "23512  3.951130   1.337302   23.982899   -0.160572     ...      -0.077319   \n",
      "23513 -0.564852  -0.629027   11.528947    6.280678     ...      -0.109586   \n",
      "23514 -0.296621  15.384135   16.272411    1.996800     ...      -0.339980   \n",
      "23515 -0.062651  -0.804492   19.697948   -0.354869     ...      -0.736816   \n",
      "23516 -0.709963  -0.477199    5.269225    0.415614     ...       0.648211   \n",
      "23517 -0.427181  -0.787255    0.910382    7.446463     ...      -0.314944   \n",
      "23518 -0.686640  -0.047907   17.412931    8.578340     ...      -0.497598   \n",
      "23519 -0.767023  45.427925    8.353862    8.073466     ...      -0.685455   \n",
      "23520 -0.047850   1.728706   44.809479   27.532129     ...      -0.886728   \n",
      "23521 -0.520453  -0.886794  198.762772    0.093598     ...      -0.526240   \n",
      "23522  2.763637  25.379520   23.624056   24.042639     ...      -0.461137   \n",
      "23523 -0.439828  -0.380118    0.390150    9.201260     ...      -0.133700   \n",
      "23524 -0.169918  -0.203154  343.940857   15.503754     ...      -0.537812   \n",
      "23525 -0.563555  -0.374616   -0.195564   -0.787696     ...      -0.135633   \n",
      "23526 -0.112003  -0.862616   10.767096    7.854367     ...      -0.965077   \n",
      "23527 -0.267975  -0.810751   78.480698   14.355811     ...      -0.827614   \n",
      "\n",
      "            2DL3       NKG2A      HLA-DR       2DL4        CD56       2DL5  \\\n",
      "0      -0.564128   -0.238059    6.143085  -0.882745   -0.022419  -0.613437   \n",
      "1      -0.216108    2.301754  102.352203   4.125319    5.322169  -0.826653   \n",
      "2      -0.421873   46.413567    1.323026  -0.065790   63.151394   2.884951   \n",
      "3      -0.136010   -0.912865   11.176067  -0.582589   89.306450  -0.879729   \n",
      "4      48.085941   -0.884382    1.753881  -0.043652   65.164116  -0.073983   \n",
      "5       2.955581   -0.363195    0.475120  -0.136221   17.923899  -0.954523   \n",
      "6      -0.118966    5.039563   10.801894   3.290287   59.398651  -0.662431   \n",
      "7       2.934144  153.584900    0.983996  -0.882382   56.515594  -0.579215   \n",
      "8       5.749840   -0.743141   56.091278  -0.753397   -0.564913  -0.921917   \n",
      "9      18.298601   -0.885337   18.310698  -0.864274   69.469551  -0.529927   \n",
      "10      0.923177  190.306625   24.093683   4.135697  607.821594   3.188954   \n",
      "11     -0.924394  166.901001    6.063655  -0.045787  441.175659  10.080992   \n",
      "12     -0.361595   37.730343    2.188613  -0.910322  176.784363   2.438745   \n",
      "13     -0.791194   -0.336428   -0.971311  -0.901938   29.261654   5.374733   \n",
      "14     -0.686944   -0.701761   28.861223   6.258152   -0.994143  -0.477273   \n",
      "15     -0.776153   93.019897    1.234381   1.688632   48.012325  -0.564934   \n",
      "16     -0.258508   -0.718857   -0.734014  -0.322173   75.783821   0.194023   \n",
      "17      3.271415   96.354118   26.976954   0.547386  370.392609   7.327297   \n",
      "18     13.881796   -0.707193   -0.218431   5.394008   45.508190  -0.941941   \n",
      "19     -0.774216   -0.753965    6.469902  -0.274003   -0.522607  -0.272561   \n",
      "20     12.217994   -0.995360    1.024693   1.993744   44.006767   1.677976   \n",
      "21     -0.557102    4.226868    0.547323  -0.774102   17.134535   9.956246   \n",
      "22     53.312294    1.145265   24.348825  -0.493638   24.079527   3.803994   \n",
      "23     -0.780648   -0.139709   54.723846   1.911421   -0.765686  -0.385388   \n",
      "24     33.632774   -0.339944    4.212745  -0.986356   27.328007   0.005926   \n",
      "25     -0.625009   -0.836009   13.537154  -0.668762   41.514256   0.420589   \n",
      "26     -0.919493    7.053500    4.839785  -0.568773   31.399590   2.968676   \n",
      "27     16.872211   -0.086680   71.971886  10.245667   -0.560848  -0.882643   \n",
      "28     35.199535   -0.268490   -0.855231  -0.113475   34.927341  -0.010956   \n",
      "29      1.663613   -0.848461   91.166885  -0.531911    5.014370  -0.803608   \n",
      "...          ...         ...         ...        ...         ...        ...   \n",
      "23498  -0.607626   -0.747265   -0.332821  -0.942914   53.289265  -0.740124   \n",
      "23499   1.926816   -0.283421   23.664865  12.788519   -0.224091  -0.407641   \n",
      "23500  -0.270109   22.212795   -0.180335  -0.150453   -0.994749   9.568545   \n",
      "23501  -0.608362   49.406757   -0.290762  -0.289242   95.267578   2.510470   \n",
      "23502  20.276165   20.354479   -0.457221  -0.284289   17.356699   0.166284   \n",
      "23503  -0.884422   -0.572461    7.612506   0.840398   37.031456  -0.215436   \n",
      "23504  -0.307614    1.617200   74.717636  -0.656413   -0.376577  11.405719   \n",
      "23505  -0.033423   -0.082311  109.120720  -0.982816    1.099567  -0.180656   \n",
      "23506  -0.531619   82.930794    3.422714   1.913019   79.187019   1.580062   \n",
      "23507  37.931797   -0.040443   -0.124724   4.357166   -0.902368  -0.538057   \n",
      "23508  -0.132103    1.653144   -0.802457  -0.624654   48.204441  -0.054538   \n",
      "23509  -0.024148   -0.358125   84.453957   2.708024   22.562189   3.631888   \n",
      "23510  -0.271461   -0.071191   15.398446  -0.304532   23.328011   3.095363   \n",
      "23511  -0.014253   21.214273    6.015562  -0.305324   28.497393  -0.748310   \n",
      "23512  -0.981938    3.397551   67.889214  -0.703793    0.448904  -0.645840   \n",
      "23513   1.061444   25.696712    8.303208  -0.151610   33.104702  -0.714892   \n",
      "23514  -0.992575   -0.904424   85.365395   1.620872    4.943561  -0.934705   \n",
      "23515  -0.738366    4.711448    3.523761  -0.480530   28.041153  -0.674600   \n",
      "23516  -0.859034   -0.420214   63.574394   0.241337   -0.270113  -0.560971   \n",
      "23517  -0.801148   -0.138638   87.625191   4.027396   -0.450151  -0.800361   \n",
      "23518  49.983841   -0.800293   -0.712449  -0.398717  107.402458   5.912267   \n",
      "23519  -0.876805   -0.481770    7.631412   1.593774    9.036095  -0.041333   \n",
      "23520  20.398617   -0.299438    7.469922  -0.163788   41.741318  -0.274681   \n",
      "23521  -0.022908   -0.005475    6.587135  -0.100206   -0.144217  -0.783418   \n",
      "23522  -0.515456   -0.877378    4.669722  -0.592245   27.999048  -0.193441   \n",
      "23523  -0.331027   85.469742   18.198648  -0.786474   14.817525  -0.776156   \n",
      "23524  -0.845215   -0.057606   17.706619  -0.370304   20.423235  -0.472575   \n",
      "23525  -0.817056   -0.050926   37.494778  -0.655897   -0.712779  -0.480766   \n",
      "23526  -0.194936   58.140217    8.557433  -0.376348   -0.748558  -0.842699   \n",
      "23527  -0.936813   -0.146900    5.914306  -0.108558   -0.853359  -0.741455   \n",
      "\n",
      "            CD25        DNA1         DNA2  \n",
      "0      -0.320451  462.936554   697.897278  \n",
      "1      -0.329498  269.259064   512.934631  \n",
      "2       5.748411  525.863159   791.116638  \n",
      "3      -0.849470  353.260895   490.506714  \n",
      "4      -0.079338  314.696899   772.930542  \n",
      "5      -0.883603  602.555542   986.710510  \n",
      "6      -0.157628  397.219818   706.133240  \n",
      "7      14.900496  272.735535   513.783752  \n",
      "8      -0.896407  378.613739   667.498962  \n",
      "9      -0.128385  262.809082   629.494385  \n",
      "10     -0.534776  326.009857   731.379700  \n",
      "11     -0.344028  380.698761   597.327332  \n",
      "12     -0.637234  213.447983   521.167603  \n",
      "13     -0.492970  225.079773   396.660645  \n",
      "14     -0.271085  447.132233   617.960999  \n",
      "15      1.741553  405.399414   770.971619  \n",
      "16     -0.485876  331.895447   457.302063  \n",
      "17      0.550643  258.779816   799.839661  \n",
      "18     -0.592224  350.603333   597.266174  \n",
      "19     18.685503  256.935089   480.524658  \n",
      "20     -0.659311  429.184082   765.056824  \n",
      "21     -0.858581  325.255127   517.423523  \n",
      "22      1.104477  323.965759   495.071594  \n",
      "23     -0.363271  289.575043   888.978638  \n",
      "24     -0.337123  397.709564   522.924194  \n",
      "25     -0.448223  213.266724   412.524811  \n",
      "26     -0.056888  213.178223   503.894165  \n",
      "27     -0.021305  376.865906   519.942688  \n",
      "28     -0.985630  243.604996   637.087524  \n",
      "29     -0.716971  441.221405   800.893799  \n",
      "...          ...         ...          ...  \n",
      "23498  -0.363235  237.904938   752.704041  \n",
      "23499  -0.712853  550.900574   942.403381  \n",
      "23500  -0.691775  224.790054   395.674530  \n",
      "23501  -0.963723  314.715729   687.915710  \n",
      "23502  -0.160334  312.744476   725.385620  \n",
      "23503  -0.950011  313.035126   547.659729  \n",
      "23504  -0.578318  293.206573   587.236328  \n",
      "23505  -0.170479  271.889709   511.410583  \n",
      "23506  -0.382861  333.556488   490.857025  \n",
      "23507  -0.932351  212.858459   432.487762  \n",
      "23508  -0.974342  276.690308   367.580597  \n",
      "23509  -0.388573  492.458313   669.668823  \n",
      "23510  -0.772866  309.771271   549.075378  \n",
      "23511  -0.887441  348.781860   479.306152  \n",
      "23512  -0.302749  351.086670   368.833679  \n",
      "23513  -0.405113  346.585480   347.662354  \n",
      "23514  -0.531528  691.040649  1113.539795  \n",
      "23515  -0.697724  426.887299   458.228058  \n",
      "23516  -0.327839  410.944336   671.910339  \n",
      "23517   0.471827  294.029449   719.249146  \n",
      "23518  -0.770542  351.458313   641.347595  \n",
      "23519  -0.833492  331.114746   414.439880  \n",
      "23520  -0.441658  278.043793   642.392395  \n",
      "23521  -0.362119  423.438995   494.616486  \n",
      "23522  -0.298912  302.132568   673.277527  \n",
      "23523  -0.730521  273.271484   659.696045  \n",
      "23524  -0.952245  443.233398   702.587646  \n",
      "23525  -0.424885  292.318726   591.421448  \n",
      "23526  -0.375588  231.284317   621.014832  \n",
      "23527  -0.032360  268.853699   380.700562  \n",
      "\n",
      "[23528 rows x 43 columns]\n"
     ]
    }
   ],
   "source": [
    "# look at the measured markers\n",
    "meta, data = parse(glob.glob(FCS_DATA_PATH + '/*.fcs')[0])\n",
    "print(data)"
   ]
  },
  {
   "cell_type": "code",
   "execution_count": 4,
   "metadata": {},
   "outputs": [
    {
     "data": {
      "text/plain": [
       "37"
      ]
     },
     "execution_count": 4,
     "metadata": {},
     "output_type": "execute_result"
    }
   ],
   "source": [
    "# select the relevant markers for further analysis\n",
    "markers = ['CD3', 'CD27', 'CD19', 'CD4', 'CD8', 'CD57', '2DL1-S1', 'TRAIL', '2DL2-L3-S2',\n",
    "           'CD16', 'CD10', '3DL1-S1', 'CD117', '2DS4', 'ILT2-CD85j', 'NKp46', 'NKG2D',\n",
    "           'NKG2C', '2B4', 'CD33', 'CD11b', 'NKp30', 'CD122', '3DL1', 'NKp44', 'CD127', '2DL1',\n",
    "           'CD94', 'CD34', 'CCR7', '2DL3', 'NKG2A', 'HLA-DR', '2DL4', 'CD56', '2DL5', 'CD25']\n",
    "len(markers)"
   ]
  },
  {
   "cell_type": "code",
   "execution_count": 5,
   "metadata": {},
   "outputs": [
    {
     "name": "stdout",
     "output_type": "stream",
     "text": [
      "['a_001_NK.fcs' 'a_002_NK.fcs' 'a_003_NK.fcs' 'a_004_NK.fcs'\n",
      " 'a_005_NK.fcs' 'a_006_NK.fcs' 'a_007_NK.fcs' 'a_009_NK.fcs'\n",
      " 'a_010_NK.fcs' 'a_011_NK.fcs' 'a_012_NK.fcs' 'a_1a_NK.fcs' 'a_2a_NK.fcs'\n",
      " 'a_2b_NK.fcs' 'a_3a_NK.fcs' 'a_3b_NK.fcs' 'a_4a_NK.fcs' 'a_4b_NK.fcs'\n",
      " 'a_5a_NK.fcs' 'a_5b_NK.fcs']\n"
     ]
    }
   ],
   "source": [
    "# load the sample names and corresponding labels (0: CMV-, 1: CMV+), here from a CSV file\n",
    "# prior CMV infection status is obtained from the original study (Horowitz et al. 2013)\n",
    "csv_file = 'NK_fcs_samples_with_labels.csv'\n",
    "fcs_info = np.array(pd.read_csv(csv_file, sep=','))\n",
    "sample_ids = fcs_info[:, 0]\n",
    "sample_labels = fcs_info[:, 1].astype(int)\n",
    "print(sample_ids)"
   ]
  },
  {
   "cell_type": "code",
   "execution_count": 6,
   "metadata": {},
   "outputs": [],
   "source": [
    "# Here we randomly split the samples in training/validation/test sets.\n",
    "\n",
    "# set random seed for reproducible results\n",
    "np.random.seed(12345)\n",
    "\n",
    "# cofactor for arcsinh transformation\n",
    "cofactor = 5\n",
    "\n",
    "# split the fcs files into training, validation and test set\n",
    "group1 = np.where(sample_labels == 0)[0]\n",
    "group2 = np.where(sample_labels == 1)[0]\n",
    "l1, l2 = len(group1), len(group2)\n",
    "ntrain_per_class = 7\n",
    "ntest_group1 = l1 - ntrain_per_class\n",
    "ntest_group2 = l2 - ntrain_per_class\n",
    "\n",
    "# get the sample indices\n",
    "train_idx1 = list(np.random.choice(group1, size=ntrain_per_class, replace=False))\n",
    "test_idx1 = [i for i in group1 if i not in train_idx1]\n",
    "train_idx2 = list(np.random.choice(group2, size=ntrain_per_class, replace=False))\n",
    "test_idx2 = [i for i in group2 if i not in train_idx2]\n",
    "\n",
    "\n",
    "def load_samples(index, selector):\n",
    "    group = []\n",
    "    for idx in index:\n",
    "        fname = os.path.join(FCS_DATA_PATH, sample_ids[idx])\n",
    "        _, x_full = parse(fname)\n",
    "        x_selected = x_full.loc[:, markers]\n",
    "        x = ftrans(x_selected, cofactor)\n",
    "        group.append(x)\n",
    "    return group\n",
    "    \n",
    "\n",
    "# load the training samples\n",
    "group1_list = load_samples(train_idx1, markers)\n",
    "group2_list = load_samples(train_idx2, markers)\n",
    "\n",
    "# load the test samples\n",
    "t_group1_list = load_samples(test_idx1, markers)\n",
    "t_group2_list = load_samples(test_idx2, markers)\n",
    "test_phenotypes = [0] * len(t_group1_list) + [1] * len(t_group2_list) \n",
    "\n",
    "# finally prepare training and vallidation data\n",
    "cut = int(.8 * len(group1_list))\n",
    "train_samples = group1_list[:cut] + group2_list[:cut]\n",
    "train_phenotypes = [0] * len(group1_list[:cut]) + [1] * len(group2_list[:cut])\n",
    "valid_samples = group1_list[cut:] + group2_list[cut:]\n",
    "valid_phenotypes = [0] * len(group1_list[cut:]) + [1] * len(group2_list[cut:])\n",
    "test_samples = t_group1_list + t_group2_list\n"
   ]
  },
  {
   "cell_type": "code",
   "execution_count": 7,
   "metadata": {},
   "outputs": [
    {
     "name": "stdout",
     "output_type": "stream",
     "text": [
      "Generating multi-cell inputs...\n",
      "Done.\n",
      "Number of filters: 7\n",
      "Cells pooled: 1\n"
     ]
    },
    {
     "name": "stderr",
     "output_type": "stream",
     "text": [
      "/Users/ochsnern/Documents/university/lab/cellcnn/cellCnn/model.py:537: UserWarning: Update your `Conv1D` call to the Keras 2 API: `Conv1D(7, 1, activity_regularizer=<cellCnn.t..., kernel_regularizer=<keras.reg..., activation=\"linear\", name=\"conv1\")`\n",
      "  name='conv1')(data_input)\n"
     ]
    },
    {
     "ename": "Exception",
     "evalue": "Need to call `set_layer` on ActivityRegularizer instance before calling the instance.",
     "output_type": "error",
     "traceback": [
      "\u001b[0;31m---------------------------------------------------------------------------\u001b[0m",
      "\u001b[0;31mException\u001b[0m                                 Traceback (most recent call last)",
      "\u001b[0;32m<ipython-input-7-c3b841b8b80d>\u001b[0m in \u001b[0;36m<module>\u001b[0;34m()\u001b[0m\n\u001b[1;32m      3\u001b[0m \u001b[0;34m\u001b[0m\u001b[0m\n\u001b[1;32m      4\u001b[0m model.fit(train_samples=train_samples, train_phenotypes=train_phenotypes,\n\u001b[0;32m----> 5\u001b[0;31m           valid_samples=valid_samples, valid_phenotypes=valid_phenotypes, outdir=OUTDIR)\n\u001b[0m",
      "\u001b[0;32m/Users/ochsnern/Documents/university/lab/cellcnn/cellCnn/model.py\u001b[0m in \u001b[0;36mfit\u001b[0;34m(self, train_samples, train_phenotypes, outdir, valid_samples, valid_phenotypes, generate_valid_set)\u001b[0m\n\u001b[1;32m    172\u001b[0m                           \u001b[0mcoeff_activity\u001b[0m\u001b[0;34m=\u001b[0m\u001b[0mself\u001b[0m\u001b[0;34m.\u001b[0m\u001b[0mcoeff_activity\u001b[0m\u001b[0;34m,\u001b[0m \u001b[0mmax_epochs\u001b[0m\u001b[0;34m=\u001b[0m\u001b[0mself\u001b[0m\u001b[0;34m.\u001b[0m\u001b[0mmax_epochs\u001b[0m\u001b[0;34m,\u001b[0m\u001b[0;34m\u001b[0m\u001b[0m\n\u001b[1;32m    173\u001b[0m                           \u001b[0mpatience\u001b[0m\u001b[0;34m=\u001b[0m\u001b[0mself\u001b[0m\u001b[0;34m.\u001b[0m\u001b[0mpatience\u001b[0m\u001b[0;34m,\u001b[0m \u001b[0mdendrogram_cutoff\u001b[0m\u001b[0;34m=\u001b[0m\u001b[0mself\u001b[0m\u001b[0;34m.\u001b[0m\u001b[0mdendrogram_cutoff\u001b[0m\u001b[0;34m,\u001b[0m\u001b[0;34m\u001b[0m\u001b[0m\n\u001b[0;32m--> 174\u001b[0;31m                           accur_thres=self.accur_thres, verbose=self.verbose)\n\u001b[0m\u001b[1;32m    175\u001b[0m         \u001b[0mself\u001b[0m\u001b[0;34m.\u001b[0m\u001b[0mresults\u001b[0m \u001b[0;34m=\u001b[0m \u001b[0mres\u001b[0m\u001b[0;34m\u001b[0m\u001b[0m\n\u001b[1;32m    176\u001b[0m         \u001b[0;32mreturn\u001b[0m \u001b[0mself\u001b[0m\u001b[0;34m\u001b[0m\u001b[0m\n",
      "\u001b[0;32m/Users/ochsnern/Documents/university/lab/cellcnn/cellCnn/model.py\u001b[0m in \u001b[0;36mtrain_model\u001b[0;34m(train_samples, train_phenotypes, outdir, valid_samples, valid_phenotypes, generate_valid_set, scale, quant_normed, nrun, regression, ncell, nsubset, per_sample, subset_selection, maxpool_percentages, nfilter_choice, learning_rate, coeff_l1, coeff_l2, dropout, dropout_p, coeff_activity, max_epochs, patience, dendrogram_cutoff, accur_thres, verbose)\u001b[0m\n\u001b[1;32m    441\u001b[0m         model = build_model(ncell, nmark, nfilter,\n\u001b[1;32m    442\u001b[0m                             \u001b[0mcoeff_l1\u001b[0m\u001b[0;34m,\u001b[0m \u001b[0mcoeff_l2\u001b[0m\u001b[0;34m,\u001b[0m \u001b[0mcoeff_activity\u001b[0m\u001b[0;34m,\u001b[0m \u001b[0mk\u001b[0m\u001b[0;34m,\u001b[0m\u001b[0;34m\u001b[0m\u001b[0m\n\u001b[0;32m--> 443\u001b[0;31m                             dropout, dropout_p, regression, n_classes, lr)\n\u001b[0m\u001b[1;32m    444\u001b[0m \u001b[0;34m\u001b[0m\u001b[0m\n\u001b[1;32m    445\u001b[0m         \u001b[0mfilepath\u001b[0m \u001b[0;34m=\u001b[0m \u001b[0mos\u001b[0m\u001b[0;34m.\u001b[0m\u001b[0mpath\u001b[0m\u001b[0;34m.\u001b[0m\u001b[0mjoin\u001b[0m\u001b[0;34m(\u001b[0m\u001b[0moutdir\u001b[0m\u001b[0;34m,\u001b[0m \u001b[0;34m'nnet_run_%d.hdf5'\u001b[0m \u001b[0;34m%\u001b[0m \u001b[0mirun\u001b[0m\u001b[0;34m)\u001b[0m\u001b[0;34m\u001b[0m\u001b[0m\n",
      "\u001b[0;32m/Users/ochsnern/Documents/university/lab/cellcnn/cellCnn/model.py\u001b[0m in \u001b[0;36mbuild_model\u001b[0;34m(ncell, nmark, nfilter, coeff_l1, coeff_l2, coeff_activity, k, dropout, dropout_p, regression, n_classes, lr)\u001b[0m\n\u001b[1;32m    535\u001b[0m                          \u001b[0mW_regularizer\u001b[0m\u001b[0;34m=\u001b[0m\u001b[0ml1_l2\u001b[0m\u001b[0;34m(\u001b[0m\u001b[0ml1\u001b[0m\u001b[0;34m=\u001b[0m\u001b[0mcoeff_l1\u001b[0m\u001b[0;34m,\u001b[0m \u001b[0ml2\u001b[0m\u001b[0;34m=\u001b[0m\u001b[0mcoeff_l2\u001b[0m\u001b[0;34m)\u001b[0m\u001b[0;34m,\u001b[0m\u001b[0;34m\u001b[0m\u001b[0m\n\u001b[1;32m    536\u001b[0m                          \u001b[0mactivity_regularizer\u001b[0m\u001b[0;34m=\u001b[0m\u001b[0mactivity_regularizer\u001b[0m\u001b[0;34m,\u001b[0m\u001b[0;34m\u001b[0m\u001b[0m\n\u001b[0;32m--> 537\u001b[0;31m                          name='conv1')(data_input)\n\u001b[0m\u001b[1;32m    538\u001b[0m     \u001b[0mconv\u001b[0m \u001b[0;34m=\u001b[0m \u001b[0mActivation\u001b[0m\u001b[0;34m(\u001b[0m\u001b[0;34m'relu'\u001b[0m\u001b[0;34m)\u001b[0m\u001b[0;34m(\u001b[0m\u001b[0mconv\u001b[0m\u001b[0;34m)\u001b[0m\u001b[0;34m\u001b[0m\u001b[0m\n\u001b[1;32m    539\u001b[0m     \u001b[0;31m# the cell grouping part\u001b[0m\u001b[0;34m\u001b[0m\u001b[0;34m\u001b[0m\u001b[0m\n",
      "\u001b[0;32m/Users/ochsnern/.miniconda3/envs/lab2/lib/python2.7/site-packages/keras/engine/base_layer.pyc\u001b[0m in \u001b[0;36m__call__\u001b[0;34m(self, inputs, **kwargs)\u001b[0m\n\u001b[1;32m    503\u001b[0m                     regularization_losses = [\n\u001b[1;32m    504\u001b[0m                         \u001b[0mself\u001b[0m\u001b[0;34m.\u001b[0m\u001b[0mactivity_regularizer\u001b[0m\u001b[0;34m(\u001b[0m\u001b[0mx\u001b[0m\u001b[0;34m)\u001b[0m\u001b[0;34m\u001b[0m\u001b[0m\n\u001b[0;32m--> 505\u001b[0;31m                         for x in to_list(output)]\n\u001b[0m\u001b[1;32m    506\u001b[0m                 self.add_loss(regularization_losses,\n\u001b[1;32m    507\u001b[0m                               inputs=to_list(inputs))\n",
      "\u001b[0;32m/Users/ochsnern/Documents/university/lab/cellcnn/cellCnn/theano_utils.pyc\u001b[0m in \u001b[0;36m__call__\u001b[0;34m(self, loss)\u001b[0m\n\u001b[1;32m     38\u001b[0m     \u001b[0;32mdef\u001b[0m \u001b[0m__call__\u001b[0m\u001b[0;34m(\u001b[0m\u001b[0mself\u001b[0m\u001b[0;34m,\u001b[0m \u001b[0mloss\u001b[0m\u001b[0;34m)\u001b[0m\u001b[0;34m:\u001b[0m\u001b[0;34m\u001b[0m\u001b[0m\n\u001b[1;32m     39\u001b[0m         \u001b[0;32mif\u001b[0m \u001b[0;32mnot\u001b[0m \u001b[0mhasattr\u001b[0m\u001b[0;34m(\u001b[0m\u001b[0mself\u001b[0m\u001b[0;34m,\u001b[0m \u001b[0;34m'layer'\u001b[0m\u001b[0;34m)\u001b[0m\u001b[0;34m:\u001b[0m\u001b[0;34m\u001b[0m\u001b[0m\n\u001b[0;32m---> 40\u001b[0;31m             raise Exception('Need to call `set_layer` on '\n\u001b[0m\u001b[1;32m     41\u001b[0m                             \u001b[0;34m'ActivityRegularizer instance '\u001b[0m\u001b[0;34m\u001b[0m\u001b[0m\n\u001b[1;32m     42\u001b[0m                             'before calling the instance.')\n",
      "\u001b[0;31mException\u001b[0m: Need to call `set_layer` on ActivityRegularizer instance before calling the instance."
     ]
    }
   ],
   "source": [
    "# run a CellCnn analysis\n",
    "model = CellCnn(ncell=200, nsubset=1000, verbose=0)\n",
    "\n",
    "model.fit(train_samples=train_samples, train_phenotypes=train_phenotypes,\n",
    "          valid_samples=valid_samples, valid_phenotypes=valid_phenotypes, outdir=OUTDIR)\n"
   ]
  },
  {
   "cell_type": "code",
   "execution_count": null,
   "metadata": {},
   "outputs": [],
   "source": [
    "# make predictions on the test cohort\n",
    "test_pred = model.predict(test_samples)\n",
    "\n",
    "# Each row in `test_pred` corresponds to a different sample\n",
    "# and indicates the predicted class probabilities for that sample.\n",
    "# Each row is a probability distribution and therefore always sums up to 1.\n",
    "# Here we only have 2 classes: CMV- (1st column) and CMV+ (2nd column)\n",
    "\n",
    "# look at the test set predictions\n",
    "print('\\nModel predictions:\\n', test_pred)\n",
    "\n",
    "# and the true phenotypes of the test samples\n",
    "print('\\nTrue phenotypes:\\n', test_phenotypes)"
   ]
  },
  {
   "cell_type": "code",
   "execution_count": null,
   "metadata": {},
   "outputs": [],
   "source": [
    "# calculate area under the ROC curve for the test set\n",
    "test_auc = roc_auc_score(test_phenotypes, test_pred[:,1])\n",
    "print test_auc"
   ]
  },
  {
   "cell_type": "code",
   "execution_count": null,
   "metadata": {},
   "outputs": [],
   "source": [
    "# plot the results of the CellCnn analysis for the test samples in the output directory\n",
    "_ = plot_results(model.results, test_samples, test_phenotypes,\n",
    "                 markers, OUTDIR, filter_response_thres=0,\n",
    "                 filter_diff_thres=0.2, group_a='CMV-', group_b='CMV+')"
   ]
  },
  {
   "cell_type": "markdown",
   "metadata": {},
   "source": [
    "Below we describe the plots generated in the output directory. Most of the actual files are in pdf format, but here, for illustration purposes, are displayed in png."
   ]
  },
  {
   "cell_type": "code",
   "execution_count": null,
   "metadata": {},
   "outputs": [],
   "source": [
    "# In this example, we have two selected filters: filter 0 (first row) and filter 1 (second row).\n",
    "# Filter 0 has high weights for the markers CD16, NKG2C and CD94\n",
    "# and it is positively associated with class 1, that is CMV+ samples.\n",
    "\n",
    "from IPython.display import Image\n",
    "Image(\"./output_NK/consensus_filter_weights.png\", width=600, height=350)"
   ]
  },
  {
   "cell_type": "code",
   "execution_count": null,
   "metadata": {},
   "outputs": [],
   "source": [
    "# We also see that filter 0 is more discriminative than filter 1,\n",
    "# because the average cell filter response difference between CMV+\n",
    "# and CMV- validation samples is higher for filter 0.\n",
    "\n",
    "# The `filter_diff_thres` parameter (that is given as input to the `plot_results` function)\n",
    "# is a threshold that defines which filters should be kept for further analysis.\n",
    "# Given an array `filter_diff` of average cell filter response\n",
    "# differences between classes (y-axis on the plot), sorted in decreasing order,\n",
    "# we keep a filter `i, i > 0` if it holds that\n",
    "# `filter_diff[i-1] - filter_diff[i] < filter_diff_thres * filter_diff[i-1]`.\n",
    "# The default value is `filter_diff_thres`=0.2\n",
    "\n",
    "Image(\"./output_NK/filter_response_differences.png\", width=600, height=350)"
   ]
  },
  {
   "cell_type": "code",
   "execution_count": null,
   "metadata": {},
   "outputs": [],
   "source": [
    "# For filters selected as discriminative via the previously described step,\n",
    "# we can inspect the cumulative distribution function (CDF) of the cell filter response.\n",
    "# Based on this, we can pick a threshold on the cell filter response of the selected\n",
    "# cell population. The default value for this threshold is `filter_response_thres`=0.\n",
    "\n",
    "Image(\"./output_NK/cdf_filter_0.png\", width=600, height=350)"
   ]
  },
  {
   "cell_type": "code",
   "execution_count": null,
   "metadata": {},
   "outputs": [],
   "source": [
    "# We can take a look at cell filter responses overlaid on a t-SNE map\n",
    "# This plots can give us a hint about a suitable filter response cutoff threshold for the selected population.\n",
    "# Here a reasonable value for this threshold is e.g. 0.7\n",
    "\n",
    "Image(\"./output_NK/tsne_cell_response_filter_0.png\")"
   ]
  },
  {
   "cell_type": "code",
   "execution_count": null,
   "metadata": {},
   "outputs": [],
   "source": [
    "# We plot again, now using a more stringent cutoff (filter_response_thres=0.7)\n",
    "# on the cell filter response of the selected cell population.\n",
    "\n",
    "_ = plot_results(model.results, test_samples, test_phenotypes,\n",
    "                 markers, OUTDIR, filter_response_thres=0.7,\n",
    "                 filter_diff_thres=0.2, group_a='CMV-', group_b='CMV+')"
   ]
  },
  {
   "cell_type": "code",
   "execution_count": null,
   "metadata": {},
   "outputs": [],
   "source": [
    "Image(\"./output_NK/cdf_filter_0.png\", width=600, height=350)"
   ]
  },
  {
   "cell_type": "code",
   "execution_count": null,
   "metadata": {},
   "outputs": [],
   "source": [
    "# Marker abundance histograms of each selected cell population are compared\n",
    "# with the corresponding marker abundance histograms of all cells. The distance between\n",
    "# distributions is quantified via the Kolmogorov-Smirnov (KS) statistic.\n",
    "\n",
    "# Here the selected cell population is now a CD57+ NKG2C+ NK cell subset\n",
    "\n",
    "Image(\"./output_NK/selected_population_distribution_filter_0.png\")"
   ]
  },
  {
   "cell_type": "code",
   "execution_count": null,
   "metadata": {},
   "outputs": [],
   "source": [
    "# For binary classification problems, we also get a boxplot of frequencies of the selected\n",
    "# cell population in samples of the two classes.\n",
    "\n",
    "Image(\"./output_NK/selected_population_frequencies_filter_0.png\", width=300, height=175)"
   ]
  },
  {
   "cell_type": "code",
   "execution_count": null,
   "metadata": {},
   "outputs": [],
   "source": []
  }
 ],
 "metadata": {
  "kernelspec": {
   "display_name": "Python 2",
   "language": "python",
   "name": "python2"
  },
  "language_info": {
   "codemirror_mode": {
    "name": "ipython",
    "version": 2
   },
   "file_extension": ".py",
   "mimetype": "text/x-python",
   "name": "python",
   "nbconvert_exporter": "python",
   "pygments_lexer": "ipython2",
   "version": "2.7.15"
  }
 },
 "nbformat": 4,
 "nbformat_minor": 2
}
